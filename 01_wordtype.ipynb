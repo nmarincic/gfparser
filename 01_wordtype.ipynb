{
 "cells": [
  {
   "cell_type": "code",
   "execution_count": null,
   "id": "clean-guess",
   "metadata": {},
   "outputs": [],
   "source": [
    "# hide\n",
    "# default_exp wordtype\n",
    "from nbdev.showdoc import *\n",
    "%load_ext autoreload\n",
    "%autoreload 2"
   ]
  },
  {
   "cell_type": "markdown",
   "id": "supported-advantage",
   "metadata": {},
   "source": [
    "# WordType\n",
    "\n",
    "> API details."
   ]
  },
  {
   "cell_type": "code",
   "execution_count": null,
   "id": "contained-possibility",
   "metadata": {},
   "outputs": [],
   "source": [
    "#export\n",
    "from fastcore.test import *\n",
    "from gfparser.config import _line_width\n",
    "from prettytable import PrettyTable"
   ]
  },
  {
   "cell_type": "code",
   "execution_count": null,
   "id": "fantastic-convert",
   "metadata": {},
   "outputs": [],
   "source": [
    "#export\n",
    "def santa(feature):\n",
    "    \"Prints a list of elements as strings, and connects them with commas\"\n",
    "    feat_len = len(feature)\n",
    "    for i, f in enumerate(feature):\n",
    "        if (feat_len-i>1):\n",
    "            print (f'{f}, ', end = '')\n",
    "        else:\n",
    "            print (f'{f}')"
   ]
  },
  {
   "cell_type": "code",
   "execution_count": null,
   "id": "controversial-prayer",
   "metadata": {},
   "outputs": [
    {
     "name": "stdout",
     "output_type": "stream",
     "text": [
      "a, b, c\n"
     ]
    }
   ],
   "source": [
    "santa([\"a\", \"b\", \"c\"])"
   ]
  },
  {
   "cell_type": "code",
   "execution_count": null,
   "id": "square-worcester",
   "metadata": {},
   "outputs": [],
   "source": [
    "#export\n",
    "def format_caption(text, no_lines, delimiter):\n",
    "    output = delimiter[0] * no_lines +\"\\n\"\n",
    "    cen = text.center(no_lines-2*len(delimiter), ' ')\n",
    "    output += delimiter + cen + delimiter[::-1] + \"\\n\"\n",
    "    output += delimiter[0] * no_lines\n",
    "    return output"
   ]
  },
  {
   "cell_type": "code",
   "execution_count": null,
   "id": "powered-roads",
   "metadata": {},
   "outputs": [],
   "source": [
    "#export\n",
    "class WordType:\n",
    "    \"\"\"Stores a word type (noun, verb, adjective, etc.) of a specific german word (Hund, Katze, etc.)\n",
    "    Attributes:\n",
    "    word: a german word\n",
    "    name: name of the word type\n",
    "    wikitext: wikitext for the current word type extracted from wiktionary\"\"\"\n",
    "    def __init__(self, word, name, wikitext):\n",
    "        self.word = word\n",
    "        self.name = name\n",
    "        self.wikitext = wikitext\n",
    "        \n",
    "        self.substantiv = ''\n",
    "        self.verb = ''\n",
    "        self.IPA = ''\n",
    "        self.adjektiv = ''\n",
    "        self.pronomen = ''\n",
    "        self.article = ''\n",
    "        self.examples = ''\n",
    "        \n",
    "    \"\"\"Returns the type of the word.\n",
    "    \"\"\"\n",
    "    def __repr__(self):\n",
    "        return self.name\n",
    "    \n",
    "    \"\"\"Defines when two word types are equal.\n",
    "    \"\"\"\n",
    "    def __eq__(self, other):\n",
    "        if hash(self) == hash(other):\n",
    "            return True\n",
    "        return False\n",
    "    \n",
    "    \"\"\"Hash is defined in terms of the wikitext.\n",
    "    \"\"\"\n",
    "    def __hash__(self):\n",
    "        return hash(self.wikitext)\n",
    "    \n",
    "    \"\"\"\n",
    "    Prints all the information about the word type.\n",
    "    \"\"\"\n",
    "    def __str__(self):\n",
    "#         print (format_caption(self.word,_line_width,'-'))\n",
    "        print (format_caption(self.name, _line_width, ' '))\n",
    "        self.print_ipa()\n",
    "        print ()\n",
    "        self.print_substantive()\n",
    "        self.print_verb()\n",
    "        self.print_pronomen(self.pronomen)\n",
    "        self.print_adjektive()\n",
    "        print ()\n",
    "        self.print_examples()  \n",
    "        return ''\n",
    "    \n",
    "    \"\"\"Prints the International phonetic alphabet representation.\n",
    "    \"\"\"\n",
    "    def print_ipa(self):\n",
    "        if self.IPA:\n",
    "            IPA = ['['+i+']' for i in self.IPA]\n",
    "            santa(IPA)\n",
    "        else:\n",
    "            print ('[]')\n",
    "            \n",
    "    \"\"\"Prints out the sentance examples using the current word in its type.\n",
    "    \"\"\"\n",
    "    def print_examples(self):\n",
    "        if self.examples:\n",
    "            for i, example in enumerate(self.examples):\n",
    "                print (f'{i+1}: {example}')   \n",
    "                \n",
    "    \"\"\"Prints pronouns.\n",
    "    \"\"\"\n",
    "    def print_pronomen(self, pronomen):\n",
    "        if self.pronomen:\n",
    "            t = PrettyTable([' ','Masculine', 'Feminine', 'Neuter', 'Plural'])\n",
    "            t.add_row(['Nominativ',\n",
    "                   pronomen['Nominativ Singular m'][0], \n",
    "                   pronomen['Nominativ Singular f'][0],\n",
    "                   pronomen['Nominativ Singular n'][0],\n",
    "                   pronomen['Nominativ Plural'][0]])\n",
    "            t.add_row(['Genitiv',\n",
    "                   pronomen['Genitiv Singular m'][0], \n",
    "                   pronomen['Genitiv Singular f'][0],\n",
    "                   pronomen['Genitiv Singular n'][0],\n",
    "                   pronomen['Genitiv Plural'][0]])\n",
    "            t.add_row(['Dativ',\n",
    "                   pronomen['Dativ Singular m'][0], \n",
    "                   pronomen['Dativ Singular f'][0],\n",
    "                   pronomen['Dativ Singular n'][0],\n",
    "                   pronomen['Dativ Plural'][0]])\n",
    "            t.add_row(['Akkusativ',\n",
    "                   pronomen['Akkusativ Singular m'][0], \n",
    "                   pronomen['Akkusativ Singular f'][0],\n",
    "                   pronomen['Akkusativ Singular n'][0],\n",
    "                   pronomen['Akkusativ Plural'][0]])\n",
    "            print(t)\n",
    "        \n",
    "    \"\"\"Prints out noun information of the current word.\n",
    "    \"\"\"\n",
    "    def print_substantive(self):\n",
    "        if self.substantiv:\n",
    "            santa(self.substantiv[0])\n",
    "            santa(self.substantiv[1])\n",
    "            \n",
    "    \"\"\"Prints out verb information of the current word.\n",
    "    \"\"\"\n",
    "    def print_verb(self):\n",
    "        if self.verb:\n",
    "            santa(self.verb[0])\n",
    "            santa(self.verb[1])\n",
    "\n",
    "            len_partizip_ii = len(self.verb[2])\n",
    "            len_hilfsverb = len(self.verb[3])\n",
    "\n",
    "            if (len_hilfsverb==1):\n",
    "                v = self.verb[3][0]\n",
    "                for k, pzip in enumerate(self.verb[2]):\n",
    "                    if (len_partizip_ii-k>1):\n",
    "                        print (f'{v} {pzip}, ', end = '')\n",
    "                    else:\n",
    "                        print (f'{v} {pzip}')\n",
    "            else:\n",
    "                for l, hilfs in enumerate(self.verb[3]):\n",
    "                    for k, pzip in enumerate(self.verb[2]):\n",
    "                        if (len_partizip_ii-k>1):\n",
    "                            print (f'{hilfs} {pzip}', end = '')\n",
    "                        else:\n",
    "                            print (f'{hilfs} {pzip}')\n",
    "                            \n",
    "    \"\"\"Prints out adjective information of the current word.\n",
    "    \"\"\"\n",
    "    def print_adjektive(self):\n",
    "        if self.adjektiv:\n",
    "            santa(self.adjektiv[0])\n",
    "            santa(self.adjektiv[1])\n",
    "            santa(self.adjektiv[2])"
   ]
  },
  {
   "cell_type": "code",
   "execution_count": null,
   "id": "outside-teacher",
   "metadata": {},
   "outputs": [
    {
     "data": {
      "text/markdown": [
       "<h2 id=\"WordType\" class=\"doc_header\"><code>class</code> <code>WordType</code><a href=\"\" class=\"source_link\" style=\"float:right\">[source]</a></h2>\n",
       "\n",
       "> <code>WordType</code>(**`word`**, **`name`**, **`wikitext`**)\n",
       "\n",
       "Stores a word type (noun, verb, adjective, etc.) of a specific german word (Hund, Katze, etc.)\n",
       "Attributes:\n",
       "word: a german word\n",
       "name: name of the word type\n",
       "wikitext: wikitext for the current word type extracted from wiktionary"
      ],
      "text/plain": [
       "<IPython.core.display.Markdown object>"
      ]
     },
     "metadata": {},
     "output_type": "display_data"
    }
   ],
   "source": [
    "show_doc(WordType)"
   ]
  },
  {
   "cell_type": "code",
   "execution_count": null,
   "id": "apparent-biodiversity",
   "metadata": {},
   "outputs": [
    {
     "data": {
      "text/markdown": [
       "<h4 id=\"WordType.__str__\" class=\"doc_header\"><code>WordType.__str__</code><a href=\"__main__.py#L41\" class=\"source_link\" style=\"float:right\">[source]</a></h4>\n",
       "\n",
       "> <code>WordType.__str__</code>()\n",
       "\n",
       "Return str(self)."
      ],
      "text/plain": [
       "<IPython.core.display.Markdown object>"
      ]
     },
     "metadata": {},
     "output_type": "display_data"
    }
   ],
   "source": [
    "show_doc(WordType.__str__)"
   ]
  },
  {
   "cell_type": "code",
   "execution_count": null,
   "id": "particular-screw",
   "metadata": {},
   "outputs": [
    {
     "name": "stdout",
     "output_type": "stream",
     "text": [
      "Converted 01_wordtype.ipynb.\n",
      "Converted 02_wikiparser.ipynb.\n",
      "Converted 03_word.ipynb.\n",
      "Converted 04_config.ipynb.\n",
      "Converted index.ipynb.\n"
     ]
    }
   ],
   "source": [
    "#hide\n",
    "from nbdev.export import notebook2script\n",
    "notebook2script()"
   ]
  },
  {
   "cell_type": "code",
   "execution_count": null,
   "id": "knowing-innocent",
   "metadata": {},
   "outputs": [],
   "source": []
  }
 ],
 "metadata": {
  "kernelspec": {
   "display_name": "gfparser",
   "language": "python",
   "name": "gfparser"
  }
 },
 "nbformat": 4,
 "nbformat_minor": 5
}

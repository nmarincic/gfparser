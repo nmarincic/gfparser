{
 "cells": [
  {
   "cell_type": "code",
   "execution_count": null,
   "id": "legitimate-sailing",
   "metadata": {},
   "outputs": [],
   "source": [
    "# hide\n",
    "# default_exp word\n",
    "from nbdev.showdoc import *\n",
    "%load_ext autoreload\n",
    "%autoreload 2"
   ]
  },
  {
   "cell_type": "markdown",
   "id": "molecular-bandwidth",
   "metadata": {},
   "source": [
    "# Word\n",
    "\n",
    "> API details."
   ]
  },
  {
   "cell_type": "code",
   "execution_count": null,
   "id": "decreased-national",
   "metadata": {},
   "outputs": [],
   "source": [
    "#export\n",
    "from gfparser.wordtype import format_caption\n",
    "from gfparser.config import _line_width"
   ]
  },
  {
   "cell_type": "code",
   "execution_count": null,
   "id": "central-karma",
   "metadata": {},
   "outputs": [],
   "source": [
    "#export\n",
    "class Word:\n",
    "    def __init__(self, title, page_id, wikitext, url):\n",
    "        self.title = title\n",
    "        self.pageid = page_id\n",
    "        self.wikitext = wikitext\n",
    "        self.url = url\n",
    "        self.word_types = []\n",
    "    \n",
    "    def __repr__(self):\n",
    "        return self.title\n",
    "    \n",
    "    def __eq__(self, other):\n",
    "        if hash(self) == hash(other):\n",
    "            return True\n",
    "        return False\n",
    "    \n",
    "    def __hash__(self):\n",
    "        return hash(self.wikitext)\n",
    "    \n",
    "    def __str__(self):\n",
    "        print (format_caption(self.title, _line_width, '='))\n",
    "        for word_type in self.word_types:\n",
    "            print (word_type)\n",
    "        return ''"
   ]
  }
 ],
 "metadata": {
  "kernelspec": {
   "display_name": "gfparser",
   "language": "python",
   "name": "gfparser"
  }
 },
 "nbformat": 4,
 "nbformat_minor": 5
}

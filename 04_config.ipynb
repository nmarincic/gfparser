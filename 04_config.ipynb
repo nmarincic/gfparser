{
 "cells": [
  {
   "cell_type": "code",
   "execution_count": null,
   "id": "dried-collaboration",
   "metadata": {},
   "outputs": [],
   "source": [
    "# hide\n",
    "# default_exp config\n",
    "from nbdev.showdoc import *\n",
    "%load_ext autoreload\n",
    "%autoreload 2"
   ]
  },
  {
   "cell_type": "markdown",
   "id": "consolidated-ecology",
   "metadata": {},
   "source": [
    "# Config\n",
    "\n",
    "> API details."
   ]
  },
  {
   "cell_type": "code",
   "execution_count": null,
   "id": "agricultural-frame",
   "metadata": {},
   "outputs": [],
   "source": [
    "#export\n",
    "wiki_site = 'https://de.wiktionary.org'\n",
    "wiki_options = '/w/api.php?action=parse&format=json&prop=wikitext&disabletoc=&page='\n",
    "wiki_normal = '/wiki/'\n",
    "regex_wortart = '^===[^=]+===[^=]'\n",
    "regex_discard = '^====[ ]*.*===='\n",
    "regex_word_type = 'Wortart[ ]*\\|[ ]*([\\w ]+)[ ]*\\|[ ]*Deutsch'\n",
    "regex_proper_spelling = '{{.*\\|(.*)\\|.*}}'\n",
    "regex_basic_word = '{{Grundformverweis.*\\|([\\w ]+)}}'"
   ]
  },
  {
   "cell_type": "code",
   "execution_count": null,
   "id": "cardiac-satellite",
   "metadata": {},
   "outputs": [],
   "source": [
    "#export\n",
    "complex_kinds = [\n",
    "    'Konjugierte Form', 'Deklinierte Form', 'Komparativ', 'Konjugierte Form',\n",
    "    'Partizip I', 'Partizip II'\n",
    "]"
   ]
  },
  {
   "cell_type": "code",
   "execution_count": null,
   "id": "hybrid-chamber",
   "metadata": {},
   "outputs": [],
   "source": [
    "#export\n",
    "_all_kinds = [\n",
    "    'Abkürzung', 'Adjektiv', 'Adverb', 'Antwortpartikel', 'Artikel',\n",
    "    'Deklinierte Form', 'Demonstrativpronomen', 'Eigenname', 'Fokuspartikel',\n",
    "    'Gradpartikel', 'Hilfsverb', 'Indefinitpronomen', 'Interjektion',\n",
    "    'Interrogativpronomen', 'Komparativ', 'Konjugierte Form', 'Konjunktion',\n",
    "    'Konjunktionaladverb', 'Kontraktion', 'Lokaladverb', 'Modaladverb',\n",
    "    'Modalpartikel', 'Nachname', 'Negationspartikel', 'Numerale', 'Partikel',\n",
    "    'Partizip I', 'Partizip II', 'Personalpronomen', 'Possessivpronomen',\n",
    "    'Postposition', 'Pronomen', 'Pronominaladverb', 'Präposition',\n",
    "    'Reflexivpronomen', 'Relativpronomen', 'Subjunktion', 'Substantiv',\n",
    "    'Temporaladverb', 'Toponym', 'Verb', 'Vergleichspartikel', 'Vorname',\n",
    "    'Zahlklassifikator'\n",
    "]"
   ]
  },
  {
   "cell_type": "code",
   "execution_count": null,
   "id": "binding-freeware",
   "metadata": {},
   "outputs": [],
   "source": [
    "#export\n",
    "_line_width = 55"
   ]
  }
 ],
 "metadata": {
  "kernelspec": {
   "display_name": "gfparser",
   "language": "python",
   "name": "gfparser"
  }
 },
 "nbformat": 4,
 "nbformat_minor": 5
}

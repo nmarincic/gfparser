{
 "cells": [
  {
   "cell_type": "code",
   "execution_count": null,
   "metadata": {},
   "outputs": [],
   "source": [
    "#hide\n",
    "%load_ext autoreload\n",
    "%autoreload 2"
   ]
  },
  {
   "cell_type": "markdown",
   "metadata": {},
   "source": [
    "# GF Parser \n",
    "\n",
    "> Pulls useful information from the web, helping you make flashcards for learning the German language."
   ]
  },
  {
   "cell_type": "markdown",
   "metadata": {},
   "source": [
    "Welcome to GF parser, an app to help you make flashcards for learning German faster!"
   ]
  },
  {
   "cell_type": "markdown",
   "metadata": {},
   "source": [
    "## Install"
   ]
  },
  {
   "cell_type": "markdown",
   "metadata": {},
   "source": [
    "`pip install gfparser`"
   ]
  },
  {
   "cell_type": "markdown",
   "metadata": {},
   "source": [
    "## How to use"
   ]
  },
  {
   "cell_type": "markdown",
   "metadata": {},
   "source": [
    "First, import the `WikiParser`"
   ]
  },
  {
   "cell_type": "code",
   "execution_count": null,
   "metadata": {},
   "outputs": [],
   "source": [
    "from gfparser import WikiParser"
   ]
  },
  {
   "cell_type": "markdown",
   "metadata": {},
   "source": [
    "Create the parser object"
   ]
  },
  {
   "cell_type": "code",
   "execution_count": null,
   "metadata": {},
   "outputs": [],
   "source": [
    "parser = WikiParser()"
   ]
  },
  {
   "cell_type": "code",
   "execution_count": null,
   "metadata": {},
   "outputs": [
    {
     "name": "stderr",
     "output_type": "stream",
     "text": [
      "Downloading words\n",
      "0% [███] 100% | ETA: 00:00:00 | Item ID: schön               \n",
      "Total time elapsed: 00:00:01\n",
      "Downloading words\n",
      "0% [█] 100% | ETA: 00:00:00 | Item ID: schönen            \n",
      "Total time elapsed: 00:00:00\n"
     ]
    }
   ],
   "source": [
    "parser.parse([\"Hund\", \"arbeiten\", \"schön\"])"
   ]
  },
  {
   "cell_type": "markdown",
   "metadata": {},
   "source": [
    "Iterate over `parser.words` and print the words:"
   ]
  },
  {
   "cell_type": "code",
   "execution_count": null,
   "metadata": {},
   "outputs": [
    {
     "name": "stdout",
     "output_type": "stream",
     "text": [
      "=======================================================\n",
      "=                         Hund                        =\n",
      "=======================================================\n",
      "                                                       \n",
      "                       Substantiv                      \n",
      "                                                       \n",
      "[hʊnt]\n",
      "\n",
      "der Hund\n",
      "die Hunde\n",
      "\n",
      "1: Die mustergültige Definition, dass ein Hund ein von Flöhen bewohnter Organismus ist, der bellt, hat Kurt Tucholsky in seinem Traktat über den Hund dem Philosophen Gottfried Wilhelm Leibniz zugeschrieben.\n",
      "2: „Schatz, hab ich heute nacht das ganze Rindfleisch gefressen oder der Hund?…Gott! Ich hab'n Kopf wie'n Sieb!! Wir haben ja gar kein' Hund.“\n",
      "3: Bei neueren Umfragen bestätigen immerhin ein Viertel der Hundehalter, den Hund ins Bett zu lassen bzw. ihn dorthin auch des Nachts mitzunehmen.\n",
      "4: „In Gemeinschaft mit Eseln, Pferden und Hunden sitzen die Handwerker bei ihrer Arbeit auf der Straße.“\n",
      "5: „Der Hund gehorcht aufs Wort und geht links neben Elsa.“\n",
      "6: Er ist ein krummer Hund.\n",
      "7: „…; wenn die Beine müde werden, legst du dich in einem engen, schrägen Schacht, der wie ein zur Hälfte aufgestellter Abzugskanal wirkt, in einen der »Hunde« und läßt dich an das Tageslicht ziehen,…“\n",
      "8: „Erst mußte er die schweren Hunde schieben und Obacht geben, daß er sich nicht den Schädel einrammte in dem niedrigen Gang oder überfahren wurde.“\n",
      "9: Ich heb' an, und du schiebst den Hund drunter.\n",
      "10: Zur Familie der Hunde gehören Arten wie der Rotfuchs und der Wolf (mit der Unterart Haushund).\n",
      "\n",
      "                                                       \n",
      "                  Substantiv/Eigenname                 \n",
      "                                                       \n",
      "[hʊnt]\n",
      "\n",
      "\n",
      "1: {{Beispiele fehlen|spr=de}}\n",
      "\n",
      "                                                       \n",
      "                  Substantiv/Nachname                  \n",
      "                                                       \n",
      "[hʊnt]\n",
      "\n",
      "\n",
      "1: Frau Hund ist ein Genie im Verkauf.\n",
      "2: Herr Hund wollte uns kein Interview geben.\n",
      "3: Die Hunds fliegen heute nach Sri Lanka.\n",
      "4: Der Hund trägt nie die Pullover, die die Hund ihm strickt.\n",
      "5: Das kann ich dir aber sagen: „Wenn die Frau Hund kommt, geht der Herr Hund.“\n",
      "6: Hund kommt und geht.\n",
      "7: Hunds kamen, sahen und siegten.\n",
      "\n",
      "\n",
      "=======================================================\n",
      "=                       arbeiten                      =\n",
      "=======================================================\n",
      "                                                       \n",
      "                          Verb                         \n",
      "                                                       \n",
      "[ˈaʁbaɪ̯tn̩]\n",
      "\n",
      "arbeite\n",
      "arbeitete\n",
      "haben gearbeitet\n",
      "\n",
      "1: Wir arbeiten gemeinsam an einem Wörterbuch.\n",
      "2: „Der Vater arbeitete in einer Kleiderfabrik und betrieb zu Hause mit seiner Frau in der Wohnung eine Schneiderei.“\n",
      "3: Er arbeitet als Lektor in einem bekannten Verlag.\n",
      "4: Was macht das Studium? Ich arbeite daran.\n",
      "5: Was macht die Reparatur? Wir arbeiten mit Hochdruck an der Hauptleitung.\n",
      "6: Seit der Reparatur arbeitet die Maschine ohne Unterbrechung.\n",
      "7: Die Anlage arbeitet wieder vorschriftsmäßig und im Takt.\n",
      "8: Viele Schmähungen musste er ertragen, fortan arbeitete es in seinem Herzen.\n",
      "9: Die Erlebnisse von gestern Abend arbeiten noch immer in mir, ich kann mich gar nicht auf die Arbeit konzentrieren.\n",
      "10: „Was ist der Unterschied zwischen einem Beamten und einem Stück Holz?“ – „Holz arbeitet!“\n",
      "11: Vergiss nicht die Fuge am Rand zu lassen, mindestens 2 cm, damit das Holz arbeiten kann!\n",
      "12: Ab Montag arbeite ich Teilzeit.\n",
      "\n",
      "\n",
      "=======================================================\n",
      "=                        schön                        =\n",
      "=======================================================\n",
      "                                                       \n",
      "                        Adjektiv                       \n",
      "                                                       \n",
      "[ʃøːn]\n",
      "\n",
      "schön\n",
      "schöner\n",
      "am schönsten\n",
      "\n",
      "1: Sie hat schönes Haar. Das Musikstück ist schön.\n",
      "2: Sie sang schön, schöner als gewöhnlich, weil die Instrumentalisten ihr so vertraut waren. Am schönsten sang sie, als Viktor am Klavier saß.\n",
      "3: „Nik Wallenda, Urenkel eines deutschen Zirkusakrobaten, hat als erster Mensch die Niagarafälle an ihrer schönsten und gefährlichsten Stelle überquert.“\n",
      "4: Das hat er aber schön gemacht. Wir hatten schöne Ferientage. Es wäre schön, wenn wir uns wieder treffen. Es war schön von ihm, seiner Frau Blumen zu schenken.\n",
      "5: Das ist ja eine schöne Geschichte! Oder anders gesagt: Das ist aber wirklich schlimm!\n",
      "6: Du bist mir ja ein schöner Freund! Oder anders gesagt: Du bist wahrlich ein schlechter Freund!\n",
      "7: Da wird sie ganz schön staunen. Also, da wird sie aber überrascht sein.\n",
      "8: Das wird eine schöne Stange Geld kosten. Also, das wird wohl ziemlich teuer werden.\n",
      "9: Lass uns doch mal wieder im Kino einen Film ansehen! – Schön, dann komm!\n",
      "10: So, jetzt gehen wir schön ins Bett.\n",
      "11: Schön aufpassen, wenn du über die Straße gehst!\n",
      "\n",
      "\n",
      "=======================================================\n",
      "=                       schönen                       =\n",
      "=======================================================\n",
      "                                                       \n",
      "                          Verb                         \n",
      "                                                       \n",
      "[ˈʃøːnən]\n",
      "\n",
      "schöne\n",
      "schönte\n",
      "haben geschönt\n",
      "\n",
      "1: Das Ergebnis: Angestellte der Politiker hatten in Hunderten Fällen die Biografien ihrer Arbeitgeber geschönt, Kritik entfernt oder den politischen Gegner verleumdet.\n",
      "2: Zudem wurden statistische Angaben in der UdSSR regelmäßig geschönt.\n",
      "3: Dieser Wein wurde mit Bentonit geschönt.\n",
      "\n",
      "\n"
     ]
    }
   ],
   "source": [
    "for w in parser.words:\n",
    "    print (w)"
   ]
  }
 ],
 "metadata": {
  "kernelspec": {
   "display_name": "gfparser",
   "language": "python",
   "name": "gfparser"
  }
 },
 "nbformat": 4,
 "nbformat_minor": 2
}
